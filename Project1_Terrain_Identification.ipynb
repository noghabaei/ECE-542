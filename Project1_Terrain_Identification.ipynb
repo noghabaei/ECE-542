{
  "nbformat": 4,
  "nbformat_minor": 0,
  "metadata": {
    "accelerator": "GPU",
    "colab": {
      "provenance": []
    },
    "kernelspec": {
      "display_name": "Python 3",
      "name": "python3"
    }
  },
  "cells": [
    {
      "cell_type": "markdown",
      "metadata": {
        "id": "kTQZd-7VmLzt"
      },
      "source": [
        "## Connect to the Google Drive"
      ]
    },
    {
      "cell_type": "markdown",
      "metadata": {
        "id": "EUG5KW7N5Sun"
      },
      "source": [
        "#Importing the required libraries"
      ]
    },
    {
      "cell_type": "code",
      "metadata": {
        "id": "GbWT9PTd5SAE"
      },
      "source": [
        "from __future__ import print_function\n",
        "import collections\n",
        "import tensorflow as tf\n",
        "import matplotlib.pyplot as plt\n",
        "from keras.models import Sequential, load_model\n",
        "from keras.layers import Dense, Activation, Embedding, Dropout, TimeDistributed\n",
        "from keras.layers import LSTM, LSTM, SimpleRNN, GRU, Bidirectional, BatchNormalization\n",
        "from keras.optimizers import Adam\n",
        "from keras.utils import to_categorical\n",
        "from keras.callbacks import ModelCheckpoint\n",
        "import numpy as np\n",
        "from numpy import mean\n",
        "from numpy import std\n",
        "from numpy import dstack\n",
        "from pandas import read_csv\n",
        "from matplotlib import pyplot\n",
        "from scipy import stats\n",
        "import os\n",
        "import math"
      ],
      "execution_count": null,
      "outputs": []
    },
    {
      "cell_type": "markdown",
      "metadata": {
        "id": "KIaZjdOewmxL"
      },
      "source": [
        "#Loading and preprocessing the data"
      ]
    },
    {
      "cell_type": "markdown",
      "metadata": {
        "id": "fLmYC-e0mWcr"
      },
      "source": [
        "Copying the data from google drive for easier access to the data"
      ]
    },
    {
      "cell_type": "markdown",
      "metadata": {
        "id": "IQpT5agejU77"
      },
      "source": [
        "Reading and Processing Data with sliding window approach"
      ]
    },
    {
      "cell_type": "code",
      "metadata": {
        "id": "mcdkYgUp2VEn"
      },
      "source": [
        "# Function for splitting data into time windows and time steps\n",
        "Wind = 1.8 # second\n",
        "Xfreq = 0.025 # second\n",
        "Yfreq = 0.1 # second\n",
        "\n",
        "def LoadData(path):\n",
        "\n",
        "  FeatureNumber = 6\n",
        "  CategoryNumber = 4\n",
        "\n",
        "  Allfiles = os.listdir(path)\n",
        "\n",
        "  filenamesx = list()\n",
        "  filenamesy = list()\n",
        "\n",
        "  # Finding x and y data files\n",
        "  for i in range(0,np.size(Allfiles)):\n",
        "    file = Allfiles[i].split('__')\n",
        "    if file[-1] == 'x.csv':\n",
        "      filenamesx.append(Allfiles[i])\n",
        "      for j in range(0,np.size(Allfiles)):\n",
        "        file2 = Allfiles[j].split('__')\n",
        "        if file2[-1] == 'y.csv' and file2[0] == file[0]:\n",
        "          filenamesy.append(Allfiles[j])\n",
        "\n",
        "  loadedx = np.empty((0, int (Wind/Xfreq), FeatureNumber), dtype=float)\n",
        "  loadedy = np.empty((0, CategoryNumber), dtype=float)\n",
        "\n",
        "  for i in range(0,np.size(filenamesx)):\n",
        "\n",
        "    # split X data into time windows and time steps\n",
        "    name = filenamesx[i]\n",
        "    DataX = read_csv(path + name, header=None, sep=',')\n",
        "    WindSteps = int (Wind/Xfreq)\n",
        "    NumWind = int( np.size(DataX,0) /  WindSteps)\n",
        "\n",
        "    DX = []\n",
        "    slider = 3\n",
        "    for m in range(0+1,slider+1):\n",
        "      n =math.floor((WindSteps-1)/m)\n",
        "      DX = DataX[n:(NumWind-1)*WindSteps+n]\n",
        "      DX = np.array(np.array_split(DX.values, (NumWind-1)))\n",
        "      loadedx = np.append(loadedx, DX, axis=0)\n",
        "\n",
        "    DataX = DataX[0:NumWind*WindSteps]\n",
        "    DataX = np.array(np.array_split(DataX.values, NumWind))\n",
        "    loadedx = np.append(loadedx, DataX, axis=0)\n",
        "\n",
        "    # split Y data into time windows and time steps + one-hot coding\n",
        "    name = filenamesy[i]\n",
        "    DataY = read_csv(path + name, header=None, sep=',')\n",
        "    DataY = np.append(0,DataY)\n",
        "    WindSteps = int (Wind/Yfreq)\n",
        "\n",
        "    DY = []\n",
        "    for m in range(0+1,slider+1):\n",
        "      n =math.floor((WindSteps-1)/m)\n",
        "      DY = DataY[n:(NumWind-1)*WindSteps+n]\n",
        "      DY= np.array_split(DY, (NumWind-1))\n",
        "      mode_info  = stats.mode(DY, axis = 1)\n",
        "      DY = mode_info[0].reshape(np.size(DY,0),1)\n",
        "      DY = to_categorical(DY)\n",
        "      loadedy = np.append(loadedy, DY, axis=0)\n",
        "\n",
        "    DataY = DataY[0:NumWind*WindSteps]\n",
        "    DataY= np.array_split(DataY, NumWind)\n",
        "    mode_info  = stats.mode(DataY, axis = 1)\n",
        "    DataY = mode_info[0].reshape(np.size(DataY,0),1)\n",
        "    DataY = to_categorical(DataY)\n",
        "    loadedy = np.append(loadedy, DataY, axis=0)\n",
        "\n",
        "\n",
        "  return loadedx, loadedy\n",
        "\n",
        "#trainx, trainy = LoadData ('/content/TrainingData/')\n",
        "trainx, trainy = LoadData ('/content/drive/My Drive/Colab Notebooks/TrDataset/TrainingData/')\n",
        "\n",
        "print(np.shape(trainx))\n",
        "print(np.shape(trainy))\n"
      ],
      "execution_count": null,
      "outputs": []
    },
    {
      "cell_type": "markdown",
      "metadata": {
        "id": "tgFE5cIIk8AH"
      },
      "source": [
        "Split the training data into training and validation set. The validation set assigned to be 20% of the entire training set."
      ]
    },
    {
      "cell_type": "code",
      "metadata": {
        "id": "oILLvd-hqPrB"
      },
      "source": [
        "from sklearn.model_selection import train_test_split\n",
        "x_train, x_val, y_train, y_val = train_test_split(trainx, trainy, test_size=0.2, random_state=42)"
      ],
      "execution_count": null,
      "outputs": []
    },
    {
      "cell_type": "markdown",
      "metadata": {
        "id": "1hb8Vn6NlNnP"
      },
      "source": [
        "Show the dimensions of the training and validation sets."
      ]
    },
    {
      "cell_type": "code",
      "metadata": {
        "id": "wmYZwOwc0P4r"
      },
      "source": [
        "print(x_train.shape)\n",
        "print(y_train.shape)\n",
        "print(x_val.shape)\n",
        "print(y_val.shape)"
      ],
      "execution_count": null,
      "outputs": []
    },
    {
      "cell_type": "markdown",
      "metadata": {
        "id": "SndLG-C76t0s"
      },
      "source": [
        "#Fixing the data imbalance"
      ]
    },
    {
      "cell_type": "markdown",
      "metadata": {
        "id": "2DthKDXClX5I"
      },
      "source": [
        "Show the label number in both validation and training sets."
      ]
    },
    {
      "cell_type": "code",
      "metadata": {
        "id": "3UhCkR6I-p1K",
        "colab": {
          "base_uri": "https://localhost:8080/"
        },
        "outputId": "26c83d3f-9732-4f21-fd97-a0a6c82e2c99"
      },
      "source": [
        "print(\"Training set\")\n",
        "print(\"label 0 =\" +str(sum(y_train[:,0])) + \" || label 1 =\" +str(sum(y_train[:,1])) + \" || label 2 =\" +str(sum(y_train[:,2])) + \" || label 3 =\" +str(sum(y_train[:,3])))\n",
        "print(\"minimum accuracy due to imblance = \" + str(max(sum(y_train[:,0])/y_train.shape[0],sum(y_train[:,1])/y_train.shape[0],sum(y_train[:,2])/y_train.shape[0],sum(y_train[:,3])/y_train.shape[0])))\n",
        "\n",
        "print(\"=================================\")\n",
        "print(\"Validation set\")\n",
        "print(\"label 0 =\" +str(sum(y_val[:,0])) + \" || label 1 =\" +str(sum(y_val[:,1])) + \" || label 2 =\" +str(sum(y_val[:,2])) + \" || label 3 =\" +str(sum(y_val[:,3])))\n"
      ],
      "execution_count": null,
      "outputs": [
        {
          "output_type": "stream",
          "text": [
            "Training set\n",
            "label 0 =44737.0 || label 1 =2439.0 || label 2 =3177.0 || label 3 =9158.0\n",
            "minimum accuracy due to imblance = 0.7517433751743375\n",
            "=================================\n",
            "Validation set\n",
            "label 0 =11208.0 || label 1 =587.0 || label 2 =822.0 || label 3 =2261.0\n"
          ],
          "name": "stdout"
        }
      ]
    },
    {
      "cell_type": "markdown",
      "metadata": {
        "id": "FnSIMVfZlV1o"
      },
      "source": [
        "Balance the training data using upsampling the data."
      ]
    },
    {
      "cell_type": "code",
      "metadata": {
        "id": "KyOrnp8YCtqq"
      },
      "source": [
        "def Balance(augmentation, x_data, y_data, limit = 250000):\n",
        "\n",
        "  i_class0 = np.where(y_data[:,0] == 1)[0]\n",
        "  i_class1 = np.where(y_data[:,1] == 1)[0]\n",
        "  i_class2 = np.where(y_data[:,2] == 1)[0]\n",
        "  i_class3 = np.where(y_data[:,3] == 1)[0]\n",
        "\n",
        "  n_class0 = len(i_class0)\n",
        "  n_class1 = len(i_class1)\n",
        "  n_class2 = len(i_class2)\n",
        "  n_class3 = len(i_class3)\n",
        "\n",
        "  train_x_us = []\n",
        "  train_y_us = []\n",
        "\n",
        "  if(augmentation == True):\n",
        "    if (n_class0 > limit):\n",
        "      i_class0 = np.random.choice(i_class0, size=limit, replace=False)\n",
        "      n_class0 = len(i_class0)\n",
        "\n",
        "    i_class1_upsampled = np.random.choice(i_class1, size=n_class0-n_class1, replace=True)\n",
        "    i_class2_upsampled = np.random.choice(i_class2, size=n_class0-n_class2, replace=True)\n",
        "    i_class3_upsampled = np.random.choice(i_class3, size=n_class0-n_class3, replace=True)\n",
        "\n",
        "    noise1 = np.random.normal(0,0.1,(n_class0-n_class1,int (Wind/Xfreq),6))\n",
        "    noise2 = np.random.normal(0,0.1,(n_class0-n_class2,int (Wind/Xfreq),6))\n",
        "    noise3 = np.random.normal(0,0.1,(n_class0-n_class3,int (Wind/Xfreq),6))\n",
        "\n",
        "    train_x_us = np.concatenate((x_data[i_class0,:,:],x_data[i_class1,:,:],x_data[i_class2,:,:],x_data[i_class3,:,:],x_data[i_class1_upsampled,:,:]+noise1,x_data[i_class2_upsampled,:,:]+noise2,x_data[i_class3_upsampled,:,:]+noise3))\n",
        "    train_y_us = np.concatenate((y_data[i_class0,:],y_data[i_class1,:],y_data[i_class2,:],y_data[i_class3,:],y_data[i_class1_upsampled,:],y_data[i_class2_upsampled,:],y_data[i_class3_upsampled,:]))\n",
        "\n",
        "    shuffler = np.random.permutation(len(train_x_us))\n",
        "    train_x_us = train_x_us[shuffler]\n",
        "    train_y_us = train_y_us[shuffler]\n",
        "\n",
        "  if(augmentation == False):\n",
        "    if (n_class0 > limit):\n",
        "      i_class0 = np.random.choice(i_class0, size=limit, replace=False)\n",
        "      n_class0 = len(i_class0)\n",
        "\n",
        "    i_class1_upsampled = np.random.choice(i_class1, size=n_class0-n_class1, replace=True)\n",
        "    i_class2_upsampled = np.random.choice(i_class2, size=n_class0-n_class2, replace=True)\n",
        "    i_class3_upsampled = np.random.choice(i_class3, size=n_class0-n_class3, replace=True)\n",
        "\n",
        "    train_x_us = np.concatenate((x_data[i_class0,:,:],x_data[i_class1,:,:],x_data[i_class2,:,:],x_data[i_class3,:,:],x_data[i_class1_upsampled,:,:],x_data[i_class2_upsampled,:,:],x_data[i_class3_upsampled,:,:]))\n",
        "    train_y_us = np.concatenate((y_data[i_class0,:],y_data[i_class1,:],y_data[i_class2,:],y_data[i_class3,:],y_data[i_class1_upsampled,:],y_data[i_class2_upsampled,:],y_data[i_class3_upsampled,:]))\n",
        "\n",
        "    shuffler = np.random.permutation(len(train_x_us))\n",
        "    train_x_us = train_x_us[shuffler]\n",
        "    train_y_us = train_y_us[shuffler]\n",
        "\n",
        "  return train_x_us, train_y_us"
      ],
      "execution_count": null,
      "outputs": []
    },
    {
      "cell_type": "markdown",
      "metadata": {
        "id": "0JnKgDtvmxms"
      },
      "source": [
        "Show the label number in both upsampled validation and training sets."
      ]
    },
    {
      "cell_type": "code",
      "metadata": {
        "id": "UZFuQdsvmiz4",
        "colab": {
          "base_uri": "https://localhost:8080/"
        },
        "outputId": "88e01a94-4d56-4ecb-dd9a-f579eecea1d3"
      },
      "source": [
        "augmentation = False\n",
        "train_x_us, train_y_us = Balance(augmentation, x_train, y_train )\n",
        "\n",
        "augmentation = False\n",
        "val_x_us, val_y_us = Balance(augmentation, x_val, y_val )\n",
        "\n",
        "print(\"Upsamplesd training set\")\n",
        "print(\"label 0 =\" +str(sum(train_y_us[:,0])) + \" || label 1 =\" +str(sum(train_y_us[:,1])) + \" || label 2 =\" +str(sum(train_y_us[:,2])) + \" || label 3 =\" +str(sum(train_y_us[:,3])))\n",
        "print(\"minimum accuracy = \" + str(max(sum(train_y_us[:,0])/train_y_us.shape[0],sum(train_y_us[:,1])/train_y_us.shape[0],sum(train_y_us[:,2])/train_y_us.shape[0],sum(train_y_us[:,3])/train_y_us.shape[0])))\n",
        "\n",
        "print(\"=================================\")\n",
        "print(\"Upsamplesd validation set\")\n",
        "print(\"label 0 =\" +str(sum(val_y_us[:,0])) + \" || label 1 =\" +str(sum(val_y_us[:,1])) + \" || label 2 =\" +str(sum(val_y_us[:,2])) + \" || label 3 =\" +str(sum(val_y_us[:,3])))\n",
        "print(\"=================================\")\n",
        "print(\"Data shape\")\n",
        "print(train_y_us.shape)\n",
        "print(val_y_us.shape)"
      ],
      "execution_count": null,
      "outputs": [
        {
          "output_type": "stream",
          "text": [
            "Upsamplesd training set\n",
            "label 0 =44737.0 || label 1 =44737.0 || label 2 =44737.0 || label 3 =44737.0\n",
            "minimum accuracy = 0.25\n",
            "=================================\n",
            "Upsamplesd validation set\n",
            "label 0 =11208.0 || label 1 =11208.0 || label 2 =11208.0 || label 3 =11208.0\n",
            "=================================\n",
            "Data shape\n",
            "(178948, 4)\n",
            "(44832, 4)\n"
          ],
          "name": "stdout"
        }
      ]
    },
    {
      "cell_type": "markdown",
      "metadata": {
        "id": "KompqeP03Dur"
      },
      "source": [
        "#Training the model with batch generator"
      ]
    },
    {
      "cell_type": "code",
      "metadata": {
        "id": "lcUOSXCgteWw"
      },
      "source": [
        "class KerasBatchGenerator(object):\n",
        "\n",
        "    def __init__(self, x,y, batch_size,shapeX, shapeY):\n",
        "        self.x = x\n",
        "        self.y = y\n",
        "        self.shapeX = shapeX\n",
        "        self.shapeY = shapeY\n",
        "        self.batch_size = batch_size\n",
        "        self.current_idx = 0\n",
        "\n",
        "    def generate(self):\n",
        "        x = np.zeros((self.batch_size, self.shapeX[0],self.shapeX[1]))\n",
        "        y = np.zeros((self.batch_size, self.shapeY))\n",
        "\n",
        "        while True:\n",
        "            for i in range(int(self.batch_size/4)):\n",
        "                if self.current_idx >= len(self.x):\n",
        "                    # reset the index back to the start of the data set\n",
        "                    self.current_idx = 0\n",
        "\n",
        "                noise1 = np.random.normal(0,0.1,(1,int (Wind/Xfreq),6))\n",
        "                noise2 = np.random.normal(0,0.05,(1,int (Wind/Xfreq),6))\n",
        "                noise3 = np.random.normal(0,0.01,(1,int (Wind/Xfreq),6))\n",
        "\n",
        "                x[4*i,:, :] = self.x[self.current_idx,:,:]\n",
        "                x[4*i+1,:, :] = self.x[self.current_idx,:,:] + noise1\n",
        "                x[4*i+2,:, :] = self.x[self.current_idx,:,:] + noise2\n",
        "                x[4*i+3,:, :] = self.x[self.current_idx,:,:] + noise3\n",
        "\n",
        "                y[4*i, :] = self.y[self.current_idx,:]\n",
        "                y[4*i+1, :] = self.y[self.current_idx,:]\n",
        "                y[4*i+2, :] = self.y[self.current_idx,:]\n",
        "                y[4*i+3, :] = self.y[self.current_idx,:]\n",
        "\n",
        "                self.current_idx += 1\n",
        "                #print(self.current_idx)\n",
        "            yield x, y"
      ],
      "execution_count": null,
      "outputs": []
    },
    {
      "cell_type": "code",
      "metadata": {
        "id": "Ju3R4MN9IFUY"
      },
      "source": [
        "class KerasBatchGenerator_validation(object):\n",
        "\n",
        "    def __init__(self, x,y, batch_size,shapeX, shapeY):\n",
        "        self.x = x\n",
        "        self.y = y\n",
        "        self.shapeX = shapeX\n",
        "        self.shapeY = shapeY\n",
        "        self.batch_size = batch_size\n",
        "        self.current_idx = 0\n",
        "\n",
        "    def generate(self):\n",
        "        x = np.zeros((self.batch_size, self.shapeX[0],self.shapeX[1]))\n",
        "        y = np.zeros((self.batch_size, self.shapeY))\n",
        "\n",
        "        while True:\n",
        "            for i in range(self.batch_size):\n",
        "                if self.current_idx >= len(self.x):\n",
        "                    # reset the index back to the start of the data set\n",
        "                    self.current_idx = 0\n",
        "\n",
        "\n",
        "                x[i,:, :] = self.x[self.current_idx,:,:]\n",
        "\n",
        "                y[i, :] = self.y[self.current_idx,:]\n",
        "                self.current_idx += 1\n",
        "                #print(self.current_idx)\n",
        "            yield x, y"
      ],
      "execution_count": null,
      "outputs": []
    },
    {
      "cell_type": "markdown",
      "metadata": {
        "id": "KiDZ6BphpgcZ"
      },
      "source": [
        "Plot the model accuracy chart"
      ]
    },
    {
      "cell_type": "code",
      "metadata": {
        "id": "6pskTyPRo8sh"
      },
      "source": [
        "def plot_history(history):\n",
        "\t  # plot loss\n",
        "    plt.title('Loss')\n",
        "    plt.plot(history.history['loss'], color='blue', label='train')\n",
        "    plt.plot(history.history['val_loss'], color='red', label='test')\n",
        "    plt.ylabel('Loss')\n",
        "    plt.xlabel('Epoch')\n",
        "    plt.legend(['Train', 'Validation'])\n",
        "    plt.show()\n",
        "\n",
        "    # plot accuracy\n",
        "    plt.title('Accuracy')\n",
        "    plt.plot(history.history['categorical_accuracy'], color='blue', label='train')\n",
        "    plt.plot(history.history['val_categorical_accuracy'], color='red', label='test')\n",
        "    plt.ylabel('Accuracy')\n",
        "    plt.xlabel('Epoch')\n",
        "    plt.legend(['Train', 'Validation'])\n",
        "    plt.show()"
      ],
      "execution_count": null,
      "outputs": []
    },
    {
      "cell_type": "markdown",
      "metadata": {
        "id": "-jejAGekpQYT"
      },
      "source": [
        "#Hyperparameter optimization"
      ]
    },
    {
      "cell_type": "code",
      "metadata": {
        "id": "gAu3-LnypQET",
        "colab": {
          "base_uri": "https://localhost:8080/"
        },
        "outputId": "c825380d-7bbc-4b8b-9d6d-33dfef649ac3"
      },
      "source": [
        "batch_size =256\n",
        "dropout = [0.8, 0.85, 0.9]\n",
        "hidden_size = [200, 250, 300]\n",
        "\n",
        "for d in dropout:\n",
        "    for h in hidden_size:\n",
        "        print(\"dropout = \", d)\n",
        "        print(\"hidden_size = \", h)\n",
        "        train_data_generator = KerasBatchGenerator(train_x_us, train_y_us, batch_size,(int (Wind/Xfreq),6),4)\n",
        "        valid_data_generator = KerasBatchGenerator_validation(val_x_us, val_y_us, batch_size,(int (Wind/Xfreq),6),4)\n",
        "\n",
        "        model_BiLSTM2 = Sequential()\n",
        "        model_BiLSTM2.add(Bidirectional(LSTM(units=h, input_shape=(int (Wind/Xfreq), 6))))\n",
        "        model_BiLSTM2.add(Dropout(d))\n",
        "        model_BiLSTM2.add(BatchNormalization())\n",
        "        model_BiLSTM2.add(Dense(60, activation=\"softmax\"))\n",
        "        model_BiLSTM2.add(Dropout(d))\n",
        "        model_BiLSTM2.add(BatchNormalization())\n",
        "        model_BiLSTM2.add(Dense(4, activation=\"softmax\"))\n",
        "        model_BiLSTM2.compile(loss='categorical_crossentropy', optimizer=Adam(), metrics=['categorical_accuracy'])\n",
        "\n",
        "        history_BiLSTM2 = model_BiLSTM2.fit_generator(train_data_generator.generate(), len(train_x_us)//(batch_size),epochs=1,\n",
        "                        validation_data=valid_data_generator.generate(),\n",
        "                        validation_steps=len(val_x_us)//(batch_size))\n"
      ],
      "execution_count": null,
      "outputs": [
        {
          "output_type": "stream",
          "text": [
            "dropout =  0.8\n",
            "hidden_size =  200\n",
            "WARNING:tensorflow:From <ipython-input-18-0a4412bc4074>:24: Model.fit_generator (from tensorflow.python.keras.engine.training) is deprecated and will be removed in a future version.\n",
            "Instructions for updating:\n",
            "Please use Model.fit, which supports generators.\n",
            "699/699 [==============================] - 21s 30ms/step - loss: 0.7654 - categorical_accuracy: 0.7048 - val_loss: 0.3095 - val_categorical_accuracy: 0.9000\n",
            "dropout =  0.8\n",
            "hidden_size =  250\n",
            "699/699 [==============================] - 27s 39ms/step - loss: 0.7560 - categorical_accuracy: 0.7101 - val_loss: 0.3527 - val_categorical_accuracy: 0.8901\n",
            "dropout =  0.8\n",
            "hidden_size =  300\n",
            "699/699 [==============================] - 35s 50ms/step - loss: 0.7936 - categorical_accuracy: 0.6730 - val_loss: 0.4316 - val_categorical_accuracy: 0.8375\n",
            "dropout =  0.85\n",
            "hidden_size =  200\n",
            "699/699 [==============================] - 22s 31ms/step - loss: 1.0816 - categorical_accuracy: 0.5328 - val_loss: 0.8543 - val_categorical_accuracy: 0.6458\n",
            "dropout =  0.85\n",
            "hidden_size =  250\n",
            "699/699 [==============================] - 28s 40ms/step - loss: 0.9085 - categorical_accuracy: 0.6128 - val_loss: 0.4909 - val_categorical_accuracy: 0.7764\n",
            "dropout =  0.85\n",
            "hidden_size =  300\n",
            "699/699 [==============================] - 36s 51ms/step - loss: 0.9387 - categorical_accuracy: 0.5921 - val_loss: 0.7918 - val_categorical_accuracy: 0.6488\n",
            "dropout =  0.9\n",
            "hidden_size =  200\n",
            "699/699 [==============================] - 22s 32ms/step - loss: 1.1510 - categorical_accuracy: 0.4794 - val_loss: 0.5908 - val_categorical_accuracy: 0.7555\n",
            "dropout =  0.9\n",
            "hidden_size =  250\n",
            "699/699 [==============================] - 28s 40ms/step - loss: 1.1500 - categorical_accuracy: 0.4734 - val_loss: 0.5846 - val_categorical_accuracy: 0.7218\n",
            "dropout =  0.9\n",
            "hidden_size =  300\n",
            "699/699 [==============================] - 36s 51ms/step - loss: 1.2168 - categorical_accuracy: 0.4467 - val_loss: 0.7275 - val_categorical_accuracy: 0.7027\n"
          ],
          "name": "stdout"
        }
      ]
    },
    {
      "cell_type": "markdown",
      "metadata": {
        "id": "yKohlrutpmLr"
      },
      "source": [
        "# Train model with the best parameter"
      ]
    },
    {
      "cell_type": "code",
      "metadata": {
        "id": "v0WQmNzXtrXM",
        "colab": {
          "base_uri": "https://localhost:8080/",
          "height": 913
        },
        "outputId": "2d49f543-0549-4f15-a417-1228550116ec"
      },
      "source": [
        "# This is the number of hidden units in the RNN layer\n",
        "hidden_size = 250\n",
        "rate_dropout = 0.8\n",
        "batch_size =256\n",
        "\n",
        "train_data_generator = KerasBatchGenerator(train_x_us, train_y_us, batch_size,(int (Wind/Xfreq),6),4)\n",
        "valid_data_generator = KerasBatchGenerator_validation(val_x_us, val_y_us, batch_size,(int (Wind/Xfreq),6),4)\n",
        "\n",
        "model_BiLSTM2 = Sequential()\n",
        "model_BiLSTM2.add(Bidirectional(LSTM(units=hidden_size, input_shape=(int (Wind/Xfreq), 6))))\n",
        "model_BiLSTM2.add(Dropout(rate_dropout))\n",
        "model_BiLSTM2.add(BatchNormalization())\n",
        "model_BiLSTM2.add(Dense(60, activation=\"softmax\"))\n",
        "model_BiLSTM2.add(Dropout(rate_dropout))\n",
        "model_BiLSTM2.add(BatchNormalization())\n",
        "model_BiLSTM2.add(Dense(4, activation=\"softmax\"))\n",
        "\n",
        "model_BiLSTM2.compile(loss='categorical_crossentropy', optimizer=Adam(), metrics=['categorical_accuracy'])\n",
        "\n",
        "history_BiLSTM2 = model_BiLSTM2.fit_generator(train_data_generator.generate(), len(train_x_us)//(batch_size),epochs=10,\n",
        "                        validation_data=valid_data_generator.generate(),\n",
        "                        validation_steps=len(val_x_us)//(batch_size))\n",
        "\n",
        "plot_history(history_BiLSTM2)"
      ],
      "execution_count": null,
      "outputs": [
        {
          "output_type": "stream",
          "text": [
            "Epoch 1/10\n",
            "699/699 [==============================] - 27s 39ms/step - loss: 0.8155 - categorical_accuracy: 0.6519 - val_loss: 0.4858 - val_categorical_accuracy: 0.7732\n",
            "Epoch 2/10\n",
            "699/699 [==============================] - 27s 38ms/step - loss: 0.5337 - categorical_accuracy: 0.7547 - val_loss: 0.3830 - val_categorical_accuracy: 0.8533\n",
            "Epoch 3/10\n",
            "699/699 [==============================] - 27s 39ms/step - loss: 0.4208 - categorical_accuracy: 0.8582 - val_loss: 0.2814 - val_categorical_accuracy: 0.9242\n",
            "Epoch 4/10\n",
            "699/699 [==============================] - 27s 38ms/step - loss: 0.3546 - categorical_accuracy: 0.8878 - val_loss: 0.2328 - val_categorical_accuracy: 0.9227\n",
            "Epoch 5/10\n",
            "699/699 [==============================] - 27s 38ms/step - loss: 0.3196 - categorical_accuracy: 0.9017 - val_loss: 0.1755 - val_categorical_accuracy: 0.9389\n",
            "Epoch 6/10\n",
            "699/699 [==============================] - 27s 38ms/step - loss: 0.2929 - categorical_accuracy: 0.9116 - val_loss: 0.1979 - val_categorical_accuracy: 0.9451\n",
            "Epoch 7/10\n",
            "699/699 [==============================] - 27s 38ms/step - loss: 0.2748 - categorical_accuracy: 0.9146 - val_loss: 0.1589 - val_categorical_accuracy: 0.9563\n",
            "Epoch 8/10\n",
            "699/699 [==============================] - 27s 38ms/step - loss: 0.2560 - categorical_accuracy: 0.9206 - val_loss: 0.1425 - val_categorical_accuracy: 0.9522\n",
            "Epoch 9/10\n",
            "699/699 [==============================] - 27s 38ms/step - loss: 0.2494 - categorical_accuracy: 0.9234 - val_loss: 0.1522 - val_categorical_accuracy: 0.9465\n",
            "Epoch 10/10\n",
            "699/699 [==============================] - 27s 39ms/step - loss: 0.2189 - categorical_accuracy: 0.9328 - val_loss: 0.1297 - val_categorical_accuracy: 0.9616\n"
          ],
          "name": "stdout"
        },
        {
          "output_type": "display_data",
          "data": {
            "image/png": "[encoded data removed]",
            "text/plain": [
              "<Figure size 432x288 with 1 Axes>"
            ]
          },
          "metadata": {
            "tags": [],
            "needs_background": "light"
          }
        },
        {
          "output_type": "display_data",
          "data": {
            "image/png": "[encoded data removed]",
            "text/plain": [
              "<Figure size 432x288 with 1 Axes>"
            ]
          },
          "metadata": {
            "tags": [],
            "needs_background": "light"
          }
        }
      ]
    },
    {
      "cell_type": "markdown",
      "metadata": {
        "id": "5wXYj5ts1MRA"
      },
      "source": [
        "Verify the final model accuracy and calculate other performance measures"
      ]
    },
    {
      "cell_type": "code",
      "metadata": {
        "id": "Wr-Ghe8l3MiK",
        "colab": {
          "base_uri": "https://localhost:8080/",
          "height": 1000
        },
        "outputId": "26c8675c-2211-4a74-e4f9-1ed4c561d6b7"
      },
      "source": [
        "import sklearn.metrics as skm\n",
        "\n",
        "plot_history(history_BiLSTM2)\n",
        "\n",
        "_, train_acc = model_BiLSTM2.evaluate(val_x_us, val_y_us, verbose=0)\n",
        "print('Accuracy_keras: %f' % train_acc)\n",
        "\n",
        "# predict probabilities and predictions\n",
        "yhat_classes = model_BiLSTM2.predict_classes(val_x_us, verbose=0)\n",
        "tmp = [np.where(r==1)[0][0] for r in val_y_us]\n",
        "#print(tmp)\n",
        "\n",
        "# accuracy\n",
        "accuracy = skm.accuracy_score(tmp, yhat_classes)\n",
        "print('Accuracy_Manual: %f' % accuracy)\n",
        "\n",
        "# precision\n",
        "precision = skm.precision_score(tmp, yhat_classes, average=None)\n",
        "print('precision: ')\n",
        "print(precision)\n",
        "precision = skm.precision_score(tmp, yhat_classes, average='weighted')\n",
        "print(precision)\n",
        "\n",
        "# recall\n",
        "recall = skm.recall_score(tmp, yhat_classes, average=None)\n",
        "print('Recall:')\n",
        "print(recall)\n",
        "recall = skm.recall_score(tmp, yhat_classes, average='weighted')\n",
        "print(recall)\n",
        "\n",
        "# f1\n",
        "f1 = skm.f1_score(tmp, yhat_classes, average=None)\n",
        "print('F1')\n",
        "print(f1)\n",
        "f1 = skm.f1_score(tmp, yhat_classes, average='weighted')\n",
        "print(f1)\n",
        "\n",
        "\n",
        "# confusion matrix\n",
        "matrix = skm.confusion_matrix(tmp, yhat_classes)\n",
        "print('\\nconfusion matrix:\\n')\n",
        "print(matrix)\n",
        "print()\n",
        "plt.matshow(matrix)\n",
        "plt.title('Confusion matrix')\n",
        "plt.colorbar()\n",
        "plt.ylabel('True label')\n",
        "plt.xlabel('Predicted label')\n",
        "plt.show()"
      ],
      "execution_count": null,
      "outputs": [
        {
          "output_type": "display_data",
          "data": {
            "image/png": "[encoded data removed]",
            "text/plain": [
              "<Figure size 432x288 with 1 Axes>"
            ]
          },
          "metadata": {
            "tags": [],
            "needs_background": "light"
          }
        },
        {
          "output_type": "display_data",
          "data": {
            "image/png": "[encoded data removed]",
            "text/plain": [
              "<Figure size 432x288 with 1 Axes>"
            ]
          },
          "metadata": {
            "tags": [],
            "needs_background": "light"
          }
        },
        {
          "output_type": "stream",
          "text": [
            "Accuracy_keras: 0.961635\n",
            "WARNING:tensorflow:From <ipython-input-21-a736a1f46530>:9: Sequential.predict_classes (from tensorflow.python.keras.engine.sequential) is deprecated and will be removed after 2021-01-01.\n",
            "Instructions for updating:\n",
            "Please use instead:* `np.argmax(model.predict(x), axis=-1)`,   if your model does multi-class classification   (e.g. if it uses a `softmax` last-layer activation).* `(model.predict(x) > 0.5).astype(\"int32\")`,   if your model does binary classification   (e.g. if it uses a `sigmoid` last-layer activation).\n",
            "Accuracy_Manual: 0.961635\n",
            "precision: \n",
            "[0.91955544 0.99064664 0.98568873 0.95141122]\n",
            "0.9618255067496355\n",
            "Recall:\n",
            "[0.93013919 0.98278016 0.98322627 0.95039258]\n",
            "0.9616345467523197\n",
            "F1\n",
            "[0.92481703 0.98669772 0.98445596 0.95090162]\n",
            "0.9617180840273963\n",
            "\n",
            "confusion matrix:\n",
            "\n",
            "[[10425    94   145   544]\n",
            " [  193 11015     0     0]\n",
            " [  188     0 11020     0]\n",
            " [  531    10    15 10652]]\n",
            "\n"
          ],
          "name": "stdout"
        },
        {
          "output_type": "display_data",
          "data": {
            "image/png": "[encoded data removed]",
            "text/plain": [
              "<Figure size 288x288 with 2 Axes>"
            ]
          },
          "metadata": {
            "tags": [],
            "needs_background": "light"
          }
        }
      ]
    },
    {
      "cell_type": "code",
      "metadata": {
        "id": "rb_i9BaaZ51L"
      },
      "source": [
        "augmentation = False\n",
        "trainx_us, trainy_us = Balance(augmentation, trainx, trainy )"
      ],
      "execution_count": null,
      "outputs": []
    },
    {
      "cell_type": "markdown",
      "metadata": {
        "id": "1RM7giGJsCjO"
      },
      "source": [
        "# Training of the final model"
      ]
    },
    {
      "cell_type": "code",
      "metadata": {
        "id": "2PM-yLUUsHkX",
        "colab": {
          "base_uri": "https://localhost:8080/"
        },
        "outputId": "8d70efdc-94e7-4075-db73-89f419f6ddb8"
      },
      "source": [
        "from tensorflow.keras.models import Sequential, save_model, load_model\n",
        "\n",
        "hidden_size = 250\n",
        "rate_dropout = 0.8\n",
        "batch_size =256\n",
        "\n",
        "train_data_generator = KerasBatchGenerator(trainx_us, trainy_us, batch_size,(int (Wind/Xfreq),6),4)\n",
        "\n",
        "\n",
        "model_BiLSTM3 = Sequential()\n",
        "model_BiLSTM3.add(Bidirectional(LSTM(units=hidden_size, input_shape=(int (Wind/Xfreq), 6))))\n",
        "model_BiLSTM3.add(Dropout(rate_dropout))\n",
        "model_BiLSTM3.add(BatchNormalization())\n",
        "model_BiLSTM3.add(Dense(60, activation=\"softmax\"))\n",
        "model_BiLSTM3.add(Dropout(rate_dropout))\n",
        "model_BiLSTM3.add(BatchNormalization())\n",
        "model_BiLSTM3.add(Dense(4, activation=\"softmax\"))\n",
        "model_BiLSTM3.compile(loss='categorical_crossentropy', optimizer=Adam(), metrics=['categorical_accuracy'])\n",
        "history_BiLSTM3 = model_BiLSTM3.fit_generator(train_data_generator.generate(), len(trainx_us)//(batch_size),epochs=10)\n",
        "\n",
        "# Save the model\n",
        "filepath = '/content/drive/My Drive/Colab Notebooks/TrDataset/'\n",
        "#filepath = '/content/'\n",
        "save_model(model_BiLSTM3, filepath)"
      ],
      "execution_count": null,
      "outputs": [
        {
          "output_type": "stream",
          "text": [
            "Epoch 1/5\n",
            "3906/3906 [==============================] - 141s 36ms/step - loss: 0.4274 - categorical_accuracy: 0.8393\n",
            "Epoch 2/5\n",
            "3906/3906 [==============================] - 142s 36ms/step - loss: 0.2161 - categorical_accuracy: 0.9292\n",
            "Epoch 3/5\n",
            "3906/3906 [==============================] - 142s 36ms/step - loss: 0.1635 - categorical_accuracy: 0.9489\n",
            "Epoch 4/5\n",
            "3906/3906 [==============================] - 142s 36ms/step - loss: 0.1213 - categorical_accuracy: 0.9647\n",
            "Epoch 5/5\n",
            "3906/3906 [==============================] - 142s 36ms/step - loss: 0.1009 - categorical_accuracy: 0.9706\n",
            "WARNING:tensorflow:From /usr/local/lib/python3.6/dist-packages/tensorflow/python/training/tracking/tracking.py:111: Model.state_updates (from tensorflow.python.keras.engine.training) is deprecated and will be removed in a future version.\n",
            "Instructions for updating:\n",
            "This property should not be used in TensorFlow 2.0, as updates are applied automatically.\n",
            "WARNING:tensorflow:From /usr/local/lib/python3.6/dist-packages/tensorflow/python/training/tracking/tracking.py:111: Layer.updates (from tensorflow.python.keras.engine.base_layer) is deprecated and will be removed in a future version.\n",
            "Instructions for updating:\n",
            "This property should not be used in TensorFlow 2.0, as updates are applied automatically.\n",
            "INFO:tensorflow:Assets written to: /content/assets\n"
          ],
          "name": "stdout"
        }
      ]
    },
    {
      "cell_type": "markdown",
      "metadata": {
        "id": "dszUWqB8sMil"
      },
      "source": [
        "Store the prediction for the test dataset"
      ]
    },
    {
      "cell_type": "code",
      "metadata": {
        "id": "JMvue9W5sPJT"
      },
      "source": [
        "from tensorflow.keras.models import Sequential, save_model, load_model\n",
        "import pandas as pd\n",
        "\n",
        "# Load a single x and save the corresponding file\n",
        "def LoadDataX(path, name):\n",
        "\n",
        "  FeatureNumber = 6\n",
        "  Ystart = 0.02 #start time of Y\n",
        "\n",
        "  loadedx = np.empty((0, int (Wind/Xfreq), FeatureNumber), dtype=float)\n",
        "\n",
        "  # split X data into time windows and time steps\n",
        "  DataX = read_csv(path + name, header=None, sep=',')\n",
        "  WindSteps = int (Wind/Xfreq)\n",
        "  NumWind = int( np.size(DataX,0) /  WindSteps)\n",
        "  DataX = DataX[0:NumWind*WindSteps]\n",
        "  DataX = np.array(np.array_split(DataX.values, NumWind))\n",
        "\n",
        "  loadedx = np.array(np.append(loadedx, DataX, axis=0))\n",
        "\n",
        "  return loadedx\n",
        "\n",
        "# Predict Y categories\n",
        "def PredictY(DataY_time, DataX, model):\n",
        "\n",
        "  predictions = model.predict(DataX)\n",
        "  classes = np.argmax(predictions, axis = 1)\n",
        "  Output = np.zeros(np.size(DataY_time,0))\n",
        "\n",
        "  for i in range(0, np.size(DataY_time,0)-1):\n",
        "    time = DataY_time[i]\n",
        "    Row = int(time/Wind)\n",
        "    Label = 0\n",
        "\n",
        "    if Row <= np.size(DataX,0)-1:\n",
        "      Label = classes[Row]\n",
        "\n",
        "    Output[i] = Label\n",
        "\n",
        "  return Output\n",
        "\n",
        "def LoadDataY(path, name):\n",
        "  DataY = read_csv(path + name, header=None, sep=',')\n",
        "  return np.array(DataY)\n",
        "\n",
        "PredictionModel = model_BiLSTM3\n",
        "datapath = '/content/TestData/'\n",
        "predictionpath = '/content/'\n",
        "Allfiles = os.listdir(datapath)\n",
        "\n",
        "for i in range(0, np.size(Allfiles)):\n",
        "  file = Allfiles[i].split('__')\n",
        "  if file[-1] == 'x.csv':\n",
        "    dataX = LoadDataX(datapath, Allfiles[i])\n",
        "    dataY_time = LoadDataY(datapath, file[0]+'__'+'y_time.csv')\n",
        "    output = PredictY(dataY_time, dataX, PredictionModel)\n",
        "    pd.DataFrame(output).to_csv(predictionpath + file[0]+'__'+'y_prediction.csv', header=None, index=None)"
      ],
      "execution_count": null,
      "outputs": []
    }
  ]
}
